{
 "cells": [
  {
   "cell_type": "code",
   "execution_count": 9,
   "metadata": {},
   "outputs": [],
   "source": [
    "from datetime import date\n",
    "import math\n"
   ]
  },
  {
   "cell_type": "code",
   "execution_count": 12,
   "metadata": {},
   "outputs": [],
   "source": [
    "def price_contract(in_dates, in_prices, out_dates, out_prices, rate, storage_cost_rate, total_vol, injection_withdrawal_cost_rate):\n",
    "    volume = 0\n",
    "    buy_cost = 0\n",
    "    cash_in = 0\n",
    "    last_date = min(min(in_dates), min(out_dates))\n",
    "    # Ensure dates are in sequence\n",
    "    all_dates = sorted(set(in_dates + out_dates))\n",
    "    \n",
    "    for i in range(len(all_dates)):\n",
    "        # processing code for each date\n",
    "        start_date = all_dates[i]\n",
    "\n",
    "        if start_date in in_dates:\n",
    "            # Inject on these dates and sum up cash flows\n",
    "            if volume <= total_vol - rate:\n",
    "                volume += rate\n",
    "\n",
    "                # Cost to purchase gas\n",
    "                buy_cost += rate * in_prices[in_dates.index(start_date)]\n",
    "                # Injection cost\n",
    "                injection_cost = rate * injection_withdrawal_cost_rate\n",
    "                buy_cost += injection_cost\n",
    "                print('Injected gas on %s at a price of %s'%(start_date, in_prices[in_dates.index(start_date)]))\n",
    "\n",
    "            else:\n",
    "                # We do not want to inject when rate is greater than total volume minus volume\n",
    "                print('Injection is not possible on date %s as there is insufficient space in the storage facility'%start_date)\n",
    "        elif start_date in out_dates:\n",
    "            #Withdraw on these dates and sum cash flows\n",
    "            if volume >= rate:\n",
    "                volume -= rate\n",
    "                cash_in += rate * out_prices[out_dates.index(start_date)]\n",
    "                # Withdrawal cost\n",
    "                withdrawal_cost = rate * injection_withdrawal_cost_rate\n",
    "                cash_in -= withdrawal_cost\n",
    "                print('Extracted gas on %s at a price of %s'%(start_date, out_prices[out_dates.index(start_date)]))\n",
    "            else:\n",
    "                # we cannot withdraw more gas than is actually stored\n",
    "                print('Extraction is not possible on date %s as there is insufficient volume of gas stored'%start_date)\n",
    "                \n",
    "    store_cost = math.ceil((max(out_dates) - min(in_dates)).days // 30) * storage_cost_rate\n",
    "    return cash_in - store_cost - buy_cost\n",
    "\n",
    "\n"
   ]
  },
  {
   "cell_type": "code",
   "execution_count": null,
   "metadata": {},
   "outputs": [],
   "source": []
  }
 ],
 "metadata": {
  "kernelspec": {
   "display_name": "Python 3",
   "language": "python",
   "name": "python3"
  },
  "language_info": {
   "codemirror_mode": {
    "name": "ipython",
    "version": 3
   },
   "file_extension": ".py",
   "mimetype": "text/x-python",
   "name": "python",
   "nbconvert_exporter": "python",
   "pygments_lexer": "ipython3",
   "version": "3.11.5"
  }
 },
 "nbformat": 4,
 "nbformat_minor": 2
}

{
 "cells": [
  {
   "cell_type": "code",
   "execution_count": 12,
   "metadata": {},
   "outputs": [
    {
     "name": "stdout",
     "output_type": "stream",
     "text": [
      "Current working directory before change: C:\\Users\\IVAN\\Documents\\VSCODE\\Python\\Quantitative Research JP\\L1\n",
      "Current working directory after change: C:\\Users\\IVAN\\Documents\\VSCODE\\Python\\Quantitative Research JP\\L1\n"
     ]
    }
   ],
   "source": [
    "import os\n",
    "\n",
    "# Obtén la ruta del directorio que contiene el archivo\n",
    "file_path = r\"C:\\Users\\IVAN\\Documents\\VSCODE\\Python\\Quantitative Research JP\\L1\\Nat_Gas.csv\"\n",
    "directory_path = os.path.dirname(file_path)\n",
    "\n",
    "# Imprime el directorio actual antes del cambio\n",
    "print(\"Current working directory before change: {0}\".format(os.getcwd()))\n",
    "\n",
    "# Cambia al directorio que contiene el archivo\n",
    "os.chdir(directory_path)\n",
    "\n",
    "# Imprime el directorio actual después del cambio\n",
    "print(\"Current working directory after change: {0}\".format(os.getcwd()))\n",
    "\n"
   ]
  },
  {
   "cell_type": "code",
   "execution_count": 13,
   "metadata": {},
   "outputs": [],
   "source": [
    "import pandas as pd\n",
    "import numpy as np\n",
    "from matplotlib import pyplot as plt\n",
    "from datetime import date, timedelta\n"
   ]
  },
  {
   "cell_type": "code",
   "execution_count": 14,
   "metadata": {},
   "outputs": [
    {
     "name": "stderr",
     "output_type": "stream",
     "text": [
      "C:\\Users\\IVAN\\AppData\\Local\\Temp\\ipykernel_19412\\2194304311.py:2: UserWarning: Could not infer format, so each element will be parsed individually, falling back to `dateutil`. To ensure parsing is consistent and as-expected, please specify a format.\n",
      "  date_time = pd.to_datetime(date_time)\n",
      "C:\\Users\\IVAN\\AppData\\Local\\Temp\\ipykernel_19412\\2194304311.py:5: UserWarning: Could not infer format, so each element will be parsed individually, falling back to `dateutil`. To ensure parsing is consistent and as-expected, please specify a format.\n",
      "  df = pd.read_csv('Nat_Gas.csv', parse_dates=['Dates'])\n"
     ]
    }
   ],
   "source": [
    "date_time = [\"10-2020\", \"11-2020\", \"12-2020\"]\n",
    "date_time = pd.to_datetime(date_time)\n",
    "data = [1, 2, 3]\n",
    "\n",
    "df = pd.read_csv('Nat_Gas.csv', parse_dates=['Dates'])\n",
    "prices = df['Prices'].values\n",
    "dates = df['Dates'].values\n"
   ]
  },
  {
   "cell_type": "code",
   "execution_count": null,
   "metadata": {},
   "outputs": [],
   "source": []
  }
 ],
 "metadata": {
  "kernelspec": {
   "display_name": "Python 3",
   "language": "python",
   "name": "python3"
  },
  "language_info": {
   "codemirror_mode": {
    "name": "ipython",
    "version": 3
   },
   "file_extension": ".py",
   "mimetype": "text/x-python",
   "name": "python",
   "nbconvert_exporter": "python",
   "pygments_lexer": "ipython3",
   "version": "3.11.5"
  }
 },
 "nbformat": 4,
 "nbformat_minor": 2
}

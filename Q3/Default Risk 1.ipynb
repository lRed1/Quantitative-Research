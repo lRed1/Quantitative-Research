{
 "cells": [
  {
   "cell_type": "markdown",
   "metadata": {},
   "source": [
    "DEFAULT TO LOAN MODEL"
   ]
  },
  {
   "cell_type": "code",
   "execution_count": 20,
   "metadata": {},
   "outputs": [],
   "source": [
    "import pandas as pd\n",
    "import matplotlib.pyplot as plt\n",
    "import sklearn.linear_model\n",
    "from datetime import datetime, timedelta\n",
    "from sklearn.model_selection import train_test_split\n",
    "from sklearn.linear_model import LogisticRegression\n",
    "from sklearn.metrics import accuracy_score, classification_report\n",
    "\n"
   ]
  },
  {
   "cell_type": "code",
   "execution_count": 21,
   "metadata": {},
   "outputs": [],
   "source": [
    "data = pd.read_csv(r\"C:\\Users\\IVAN\\Documents\\VSCODE\\Python\\Quantitative Research JP\\L2\\Loan_Data.csv\")"
   ]
  },
  {
   "cell_type": "code",
   "execution_count": 23,
   "metadata": {},
   "outputs": [
    {
     "name": "stdout",
     "output_type": "stream",
     "text": [
      "Accuracy: 1.00\n",
      "\n",
      "Classification Report:\n",
      "               precision    recall  f1-score   support\n",
      "\n",
      "           0       1.00      1.00      1.00      1652\n",
      "           1       1.00      0.98      0.99       348\n",
      "\n",
      "    accuracy                           1.00      2000\n",
      "   macro avg       1.00      0.99      0.99      2000\n",
      "weighted avg       1.00      1.00      1.00      2000\n",
      "\n"
     ]
    }
   ],
   "source": [
    "# Features (X) and target variable (y)\n",
    "X = data.drop(['customer_id', 'default'], axis=1)\n",
    "y = data['default']\n",
    "\n",
    "# Split the data into training and testing sets\n",
    "X_train, X_test, y_train, y_test = train_test_split(X, y, test_size=0.2, random_state=42)\n",
    "\n",
    "# Instantiate the logistic regression model with a higher max_iter\n",
    "model = LogisticRegression(max_iter=1000, random_state=42)  # You can adjust the number of iterations as needed\n",
    "\n",
    "# Fit the model to your training data\n",
    "model.fit(X_train, y_train)\n",
    "\n",
    "# Make predictions on the test set\n",
    "y_pred = model.predict(X_test)\n",
    "\n",
    "# Evaluate the model\n",
    "accuracy = accuracy_score(y_test, y_pred)\n",
    "classification_rep = classification_report(y_test, y_pred)\n",
    "\n",
    "print(f\"Accuracy: {accuracy:.2f}\")\n",
    "print(\"\\nClassification Report:\\n\", classification_rep)\n"
   ]
  },
  {
   "cell_type": "code",
   "execution_count": null,
   "metadata": {},
   "outputs": [],
   "source": [
    "def estimate_probability_of_default(loan_properties):\n",
    "    \"\"\"\n",
    "    Estimate the probability of default for a given loan using the trained model.\n",
    "\n",
    "    Parameters:\n",
    "    - loan_properties: A dictionary containing loan properties (income, total loans outstanding, etc.).\n",
    "\n",
    "    Returns:\n",
    "    - probability_of_default: Estimated probability of default.\n",
    "    \"\"\"\n",
    "    # Convert loan properties to a DataFrame with a single row\n",
    "    loan_df = pd.DataFrame([loan_properties])\n",
    "\n",
    "    # Use the trained model to predict the probability of default\n",
    "    probability_of_default = model.predict_proba(loan_df)[:, 1]\n",
    "\n",
    "    return probability_of_default[0]\n",
    "\n",
    "# Example: Estimate the probability of default for a new loan\n",
    "new_loan_properties = {\n",
    "    'credit_lines_outstanding': 2,\n",
    "    'loan_amt_outstanding': 3000,\n",
    "    'total_debt_outstanding': 2500,\n",
    "    'income': 40000,\n",
    "    'years_employed': 3,\n",
    "    'fico_score': 600\n",
    "}\n",
    "\n",
    "estimated_pd = estimate_probability_of_default(new_loan_properties)\n",
    "print(f\"Estimated Probability of Default: {estimated_pd:.2%}\")\n"
   ]
  },
  {
   "cell_type": "code",
   "execution_count": null,
   "metadata": {},
   "outputs": [],
   "source": []
  }
 ],
 "metadata": {
  "kernelspec": {
   "display_name": "Python 3",
   "language": "python",
   "name": "python3"
  },
  "language_info": {
   "codemirror_mode": {
    "name": "ipython",
    "version": 3
   },
   "file_extension": ".py",
   "mimetype": "text/x-python",
   "name": "python",
   "nbconvert_exporter": "python",
   "pygments_lexer": "ipython3",
   "version": "3.11.5"
  }
 },
 "nbformat": 4,
 "nbformat_minor": 2
}
